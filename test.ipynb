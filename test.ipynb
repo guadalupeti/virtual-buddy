{
 "cells": [
  {
   "cell_type": "code",
   "execution_count": 2,
   "metadata": {},
   "outputs": [],
   "source": [
    "import pandas as pd\n",
    "import json\n",
    "import os"
   ]
  },
  {
   "cell_type": "code",
   "execution_count": 3,
   "metadata": {},
   "outputs": [],
   "source": [
    "data = pd.read_json('bot.json')"
   ]
  },
  {
   "cell_type": "code",
   "execution_count": 4,
   "metadata": {},
   "outputs": [],
   "source": [
    "new = [{\"question\": \"testing?\", \"answer\": \"yes, testing!\"}]\n",
    "\n",
    "with open('bot.json', 'rb+') as file:\n",
    "    file.seek(-1, os.SEEK_END)\n",
    "    file.truncate()\n",
    "\n",
    "\n",
    "with open('bot.json', 'a') as file:\n",
    "    for item in new:\n",
    "        file.write(',')\n",
    "        json.dump(item, file, indent=4)\n",
    "        file.write('\\n')\n",
    "\n",
    "with open('bot.json', 'a') as file:\n",
    "    file.write(']')"
   ]
  },
  {
   "cell_type": "code",
   "execution_count": 5,
   "metadata": {},
   "outputs": [
    {
     "data": {
      "text/html": [
       "<div>\n",
       "<style scoped>\n",
       "    .dataframe tbody tr th:only-of-type {\n",
       "        vertical-align: middle;\n",
       "    }\n",
       "\n",
       "    .dataframe tbody tr th {\n",
       "        vertical-align: top;\n",
       "    }\n",
       "\n",
       "    .dataframe thead th {\n",
       "        text-align: right;\n",
       "    }\n",
       "</style>\n",
       "<table border=\"1\" class=\"dataframe\">\n",
       "  <thead>\n",
       "    <tr style=\"text-align: right;\">\n",
       "      <th></th>\n",
       "      <th>question</th>\n",
       "      <th>answer</th>\n",
       "    </tr>\n",
       "  </thead>\n",
       "  <tbody>\n",
       "    <tr>\n",
       "      <th>0</th>\n",
       "      <td>testing?</td>\n",
       "      <td>yes, testing!</td>\n",
       "    </tr>\n",
       "    <tr>\n",
       "      <th>1</th>\n",
       "      <td>what is the capital of france?</td>\n",
       "      <td>Paris</td>\n",
       "    </tr>\n",
       "    <tr>\n",
       "      <th>2</th>\n",
       "      <td>who wrote \"romeo and juliet\"?</td>\n",
       "      <td>William Shakespeare</td>\n",
       "    </tr>\n",
       "    <tr>\n",
       "      <th>3</th>\n",
       "      <td>what is the chemical symbol for water?</td>\n",
       "      <td>H2O</td>\n",
       "    </tr>\n",
       "    <tr>\n",
       "      <th>4</th>\n",
       "      <td>who painted the mona lisa?</td>\n",
       "      <td>Leonardo da Vinci</td>\n",
       "    </tr>\n",
       "    <tr>\n",
       "      <th>5</th>\n",
       "      <td>what is the tallest mountain in the world?</td>\n",
       "      <td>Mount Everest</td>\n",
       "    </tr>\n",
       "    <tr>\n",
       "      <th>6</th>\n",
       "      <td>what year did the titanic sink?</td>\n",
       "      <td>1912</td>\n",
       "    </tr>\n",
       "    <tr>\n",
       "      <th>7</th>\n",
       "      <td>who discovered penicillin?</td>\n",
       "      <td>Alexander Fleming</td>\n",
       "    </tr>\n",
       "    <tr>\n",
       "      <th>8</th>\n",
       "      <td>what is the currency of japan?</td>\n",
       "      <td>Yen</td>\n",
       "    </tr>\n",
       "    <tr>\n",
       "      <th>9</th>\n",
       "      <td>hat is the largest planet in our solar system?</td>\n",
       "      <td>Jupiter</td>\n",
       "    </tr>\n",
       "    <tr>\n",
       "      <th>10</th>\n",
       "      <td>who was the first person to walk on the moon?</td>\n",
       "      <td>Neil armstrong</td>\n",
       "    </tr>\n",
       "    <tr>\n",
       "      <th>11</th>\n",
       "      <td>testing?</td>\n",
       "      <td>yes, testing!</td>\n",
       "    </tr>\n",
       "    <tr>\n",
       "      <th>12</th>\n",
       "      <td>testing?</td>\n",
       "      <td>yes, testing!</td>\n",
       "    </tr>\n",
       "  </tbody>\n",
       "</table>\n",
       "</div>"
      ],
      "text/plain": [
       "                                          question               answer\n",
       "0                                         testing?        yes, testing!\n",
       "1                   what is the capital of france?                Paris\n",
       "2                    who wrote \"romeo and juliet\"?  William Shakespeare\n",
       "3           what is the chemical symbol for water?                  H2O\n",
       "4                       who painted the mona lisa?    Leonardo da Vinci\n",
       "5       what is the tallest mountain in the world?        Mount Everest\n",
       "6                  what year did the titanic sink?                 1912\n",
       "7                       who discovered penicillin?    Alexander Fleming\n",
       "8                   what is the currency of japan?                  Yen\n",
       "9   hat is the largest planet in our solar system?              Jupiter\n",
       "10   who was the first person to walk on the moon?       Neil armstrong\n",
       "11                                        testing?        yes, testing!\n",
       "12                                        testing?        yes, testing!"
      ]
     },
     "execution_count": 5,
     "metadata": {},
     "output_type": "execute_result"
    }
   ],
   "source": [
    "data"
   ]
  },
  {
   "cell_type": "code",
   "execution_count": 6,
   "metadata": {},
   "outputs": [
    {
     "data": {
      "text/plain": [
       "0                                           testing?\n",
       "1                     what is the capital of france?\n",
       "2                      who wrote \"romeo and juliet\"?\n",
       "3             what is the chemical symbol for water?\n",
       "4                         who painted the mona lisa?\n",
       "5         what is the tallest mountain in the world?\n",
       "6                    what year did the titanic sink?\n",
       "7                         who discovered penicillin?\n",
       "8                     what is the currency of japan?\n",
       "9     hat is the largest planet in our solar system?\n",
       "10     who was the first person to walk on the moon?\n",
       "11                                          testing?\n",
       "12                                          testing?\n",
       "Name: question, dtype: object"
      ]
     },
     "execution_count": 6,
     "metadata": {},
     "output_type": "execute_result"
    }
   ],
   "source": [
    "data['question']"
   ]
  },
  {
   "cell_type": "code",
   "execution_count": null,
   "metadata": {},
   "outputs": [],
   "source": []
  }
 ],
 "metadata": {
  "kernelspec": {
   "display_name": "Python 3",
   "language": "python",
   "name": "python3"
  },
  "language_info": {
   "codemirror_mode": {
    "name": "ipython",
    "version": 3
   },
   "file_extension": ".py",
   "mimetype": "text/x-python",
   "name": "python",
   "nbconvert_exporter": "python",
   "pygments_lexer": "ipython3",
   "version": "3.12.1"
  }
 },
 "nbformat": 4,
 "nbformat_minor": 2
}
